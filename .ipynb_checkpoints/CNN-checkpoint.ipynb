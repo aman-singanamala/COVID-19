{
 "cells": [
  {
   "cell_type": "code",
   "execution_count": 1,
   "metadata": {},
   "outputs": [],
   "source": [
    "# Importing the Keras libraries and packages\n",
    "import os\n",
    "\n",
    "import pandas as pd\n",
    "\n",
    "import pickle\n",
    "\n",
    "import numpy as np\n",
    "\n",
    "import tensorflow as tf\n",
    "\n",
    "from tensorflow.keras.models import load_model\n",
    "\n",
    "from tensorflow.keras.preprocessing.image import ImageDataGenerator\n",
    "\n",
    "from tensorflow.keras.models import Model\n",
    "\n",
    "from PIL import Image"
   ]
  },
  {
   "cell_type": "code",
   "execution_count": 5,
   "metadata": {},
   "outputs": [
    {
     "name": "stdout",
     "output_type": "stream",
     "text": [
      "Model: \"sequential_2\"\n",
      "_________________________________________________________________\n",
      "Layer (type)                 Output Shape              Param #   \n",
      "=================================================================\n",
      "conv2d_3 (Conv2D)            (None, 64, 64, 32)        896       \n",
      "_________________________________________________________________\n",
      "max_pooling2d_2 (MaxPooling2 (None, 32, 32, 32)        0         \n",
      "_________________________________________________________________\n",
      "conv2d_4 (Conv2D)            (None, 32, 32, 64)        18496     \n",
      "_________________________________________________________________\n",
      "max_pooling2d_3 (MaxPooling2 (None, 16, 16, 64)        0         \n",
      "_________________________________________________________________\n",
      "flatten_1 (Flatten)          (None, 16384)             0         \n",
      "_________________________________________________________________\n",
      "dense_2 (Dense)              (None, 128)               2097280   \n",
      "_________________________________________________________________\n",
      "dense_3 (Dense)              (None, 1)                 129       \n",
      "=================================================================\n",
      "Total params: 2,116,801\n",
      "Trainable params: 2,116,801\n",
      "Non-trainable params: 0\n",
      "_________________________________________________________________\n"
     ]
    }
   ],
   "source": [
    "# Initialising the CNN\n",
    "classifier = tf.keras.models.Sequential()\n",
    "\n",
    "classifier.add(tf.keras.layers.Convolution2D(filters=32, \n",
    "                                             kernel_size=4,\n",
    "                                             padding=\"same\", \n",
    "                                             input_shape=(64, 64,3),\n",
    "                                             activation='relu'))\n",
    "\n",
    "classifier.add(tf.keras.layers.MaxPooling2D(pool_size=2, \n",
    "                                            strides=2, \n",
    "                                            padding='valid'))\n",
    "\n",
    "classifier.add(tf.keras.layers.Convolution2D(filters=64, \n",
    "                                             kernel_size=3, \n",
    "                                             padding=\"same\", \n",
    "                                             activation=\"relu\"))\n",
    "classifier.add(tf.keras.layers.MaxPooling2D(pool_size=2, \n",
    "                                            strides=2, \n",
    "                                            padding='valid'))\n",
    "\n",
    "classifier.add(tf.keras.layers.Flatten())\n",
    "\n",
    "classifier.add(tf.keras.layers.Dense(units=128, \n",
    "                                     activation='relu'))\n",
    "classifier.add(tf.keras.layers.Dense(units=1, \n",
    "                                     activation='sigmoid'))\n",
    "\n",
    "classifier.compile(optimizer='adam', \n",
    "                   loss='binary_crossentropy', \n",
    "                   metrics=['accuracy'])\n",
    "classifier.summary()\n"
   ]
  },
  {
   "cell_type": "code",
   "execution_count": 8,
   "metadata": {},
   "outputs": [
    {
     "name": "stdout",
     "output_type": "stream",
     "text": [
      "Found 100 images belonging to 2 classes.\n",
      "Found 100 images belonging to 2 classes.\n"
     ]
    }
   ],
   "source": [
    "# Part 2 - Fitting the CNN to the images\n",
    "\n",
    "from tensorflow.keras.preprocessing.image import ImageDataGenerator\n",
    "\n",
    "train_datagen = ImageDataGenerator(rescale=1. / 255,\n",
    "                                   shear_range=0.2,\n",
    "                                   zoom_range=0.2,\n",
    "                                   horizontal_flip=True)\n",
    "\n",
    "test_datagen = ImageDataGenerator(rescale=1. / 255)\n",
    "\n",
    "training_set = train_datagen.flow_from_directory(r\"C:\\Users\\dell\\Desktop\\MYFILES\\anaconda\\Covid-19-chest-x-ray-detection\\Data\\train\",\n",
    "                                                 target_size=(64, 64),\n",
    "                                                 batch_size=32,\n",
    "                                                 class_mode='binary')\n",
    "\n",
    "test_set = test_datagen.flow_from_directory(r\"C:\\Users\\dell\\Desktop\\MYFILES\\anaconda\\Covid-19-chest-x-ray-detection\\Data\\train\",\n",
    "                                            target_size=(64, 64),\n",
    "                                            batch_size=32,\n",
    "                                            class_mode='binary')"
   ]
  },
  {
   "cell_type": "code",
   "execution_count": 9,
   "metadata": {},
   "outputs": [
    {
     "name": "stdout",
     "output_type": "stream",
     "text": [
      "Epoch 1/25\n",
      "4/4 [==============================] - 5s 1s/step - loss: 1.0791 - accuracy: 0.5100 - val_loss: 0.5499 - val_accuracy: 0.6900\n",
      "Epoch 2/25\n",
      "4/4 [==============================] - 4s 927ms/step - loss: 0.5292 - accuracy: 0.7900 - val_loss: 0.4127 - val_accuracy: 0.9100\n",
      "Epoch 3/25\n",
      "4/4 [==============================] - 4s 949ms/step - loss: 0.4613 - accuracy: 0.8100 - val_loss: 0.2454 - val_accuracy: 0.9700\n",
      "Epoch 4/25\n",
      "4/4 [==============================] - 4s 1s/step - loss: 0.2650 - accuracy: 0.8900 - val_loss: 0.1580 - val_accuracy: 0.9700\n",
      "Epoch 5/25\n",
      "4/4 [==============================] - 4s 1s/step - loss: 0.2333 - accuracy: 0.8900 - val_loss: 0.1747 - val_accuracy: 0.9400\n",
      "Epoch 6/25\n",
      "4/4 [==============================] - 5s 1s/step - loss: 0.2270 - accuracy: 0.9100 - val_loss: 0.0861 - val_accuracy: 0.9700\n",
      "Epoch 7/25\n",
      "4/4 [==============================] - 5s 1s/step - loss: 0.1942 - accuracy: 0.9300 - val_loss: 0.2046 - val_accuracy: 0.9000\n",
      "Epoch 8/25\n",
      "4/4 [==============================] - 4s 1s/step - loss: 0.1488 - accuracy: 0.9500 - val_loss: 0.0853 - val_accuracy: 0.9800\n",
      "Epoch 9/25\n",
      "4/4 [==============================] - 4s 1s/step - loss: 0.2385 - accuracy: 0.9300 - val_loss: 0.1125 - val_accuracy: 0.9700\n",
      "Epoch 10/25\n",
      "4/4 [==============================] - 4s 1s/step - loss: 0.1669 - accuracy: 0.9300 - val_loss: 0.0483 - val_accuracy: 0.9800\n",
      "Epoch 11/25\n",
      "4/4 [==============================] - 4s 1s/step - loss: 0.1630 - accuracy: 0.9300 - val_loss: 0.0401 - val_accuracy: 0.9900\n",
      "Epoch 12/25\n",
      "4/4 [==============================] - 5s 1s/step - loss: 0.0965 - accuracy: 0.9800 - val_loss: 0.0611 - val_accuracy: 1.0000\n",
      "Epoch 13/25\n",
      "4/4 [==============================] - 5s 1s/step - loss: 0.0690 - accuracy: 1.0000 - val_loss: 0.0426 - val_accuracy: 0.9900\n",
      "Epoch 14/25\n",
      "4/4 [==============================] - 4s 1s/step - loss: 0.0764 - accuracy: 0.9900 - val_loss: 0.0328 - val_accuracy: 1.0000\n",
      "Epoch 15/25\n",
      "4/4 [==============================] - 4s 1s/step - loss: 0.0576 - accuracy: 0.9900 - val_loss: 0.0973 - val_accuracy: 0.9700\n",
      "Epoch 16/25\n",
      "4/4 [==============================] - 5s 1s/step - loss: 0.0775 - accuracy: 0.9900 - val_loss: 0.0232 - val_accuracy: 0.9900\n",
      "Epoch 17/25\n",
      "4/4 [==============================] - 5s 1s/step - loss: 0.0566 - accuracy: 0.9900 - val_loss: 0.0158 - val_accuracy: 0.9900\n",
      "Epoch 18/25\n",
      "4/4 [==============================] - 4s 1s/step - loss: 0.0323 - accuracy: 0.9800 - val_loss: 0.0254 - val_accuracy: 1.0000\n",
      "Epoch 19/25\n",
      "4/4 [==============================] - 4s 1s/step - loss: 0.0401 - accuracy: 0.9900 - val_loss: 0.0133 - val_accuracy: 1.0000\n",
      "Epoch 20/25\n",
      "4/4 [==============================] - 5s 1s/step - loss: 0.0377 - accuracy: 0.9900 - val_loss: 0.0100 - val_accuracy: 1.0000\n",
      "Epoch 21/25\n",
      "4/4 [==============================] - 4s 1s/step - loss: 0.0352 - accuracy: 0.9900 - val_loss: 0.0255 - val_accuracy: 1.0000\n",
      "Epoch 22/25\n",
      "4/4 [==============================] - 4s 1s/step - loss: 0.1361 - accuracy: 0.9500 - val_loss: 0.0075 - val_accuracy: 1.0000\n",
      "Epoch 23/25\n",
      "4/4 [==============================] - 5s 1s/step - loss: 0.1912 - accuracy: 0.9400 - val_loss: 0.0835 - val_accuracy: 0.9700\n",
      "Epoch 24/25\n",
      "4/4 [==============================] - 4s 1s/step - loss: 0.1106 - accuracy: 0.9700 - val_loss: 0.0221 - val_accuracy: 1.0000\n",
      "Epoch 25/25\n",
      "4/4 [==============================] - 4s 1s/step - loss: 0.0683 - accuracy: 0.9700 - val_loss: 0.0213 - val_accuracy: 1.0000\n"
     ]
    }
   ],
   "source": [
    "#training \n",
    "history = classifier.fit(training_set,\n",
    "                         steps_per_epoch=4,\n",
    "                         epochs=25,\n",
    "                         validation_data=test_set,\n",
    "                         validation_steps=4)"
   ]
  },
  {
   "cell_type": "code",
   "execution_count": 11,
   "metadata": {},
   "outputs": [],
   "source": [
    "\n",
    "classifier.save(r'C:\\Users\\dell\\Desktop\\MYFILES\\COVID-19/model.h5')"
   ]
  },
  {
   "cell_type": "code",
   "execution_count": 12,
   "metadata": {},
   "outputs": [
    {
     "name": "stdout",
     "output_type": "stream",
     "text": [
      "4/4 [==============================] - 1s 317ms/step - loss: 0.0213 - accuracy: 1.0000\n"
     ]
    },
    {
     "data": {
      "text/plain": [
       "[0.02125588245689869, 1.0]"
      ]
     },
     "execution_count": 12,
     "metadata": {},
     "output_type": "execute_result"
    }
   ],
   "source": [
    "# evaluation on test set\n",
    "loaded_model = tf.keras.models.load_model(r'C:\\Users\\dell\\Desktop\\MYFILES\\COVID-19/model.h5')\n",
    "loaded_model.evaluate(test_set)"
   ]
  },
  {
   "cell_type": "code",
   "execution_count": 14,
   "metadata": {},
   "outputs": [
    {
     "data": {
      "image/png": "[encoded data removed]",
      "text/plain": [
       "<Figure size 432x288 with 1 Axes>"
      ]
     },
     "metadata": {
      "needs_background": "light"
     },
     "output_type": "display_data"
    },
    {
     "data": {
      "image/png": "[encoded data removed]",
      "text/plain": [
       "<Figure size 432x288 with 1 Axes>"
      ]
     },
     "metadata": {
      "needs_background": "light"
     },
     "output_type": "display_data"
    }
   ],
   "source": [
    "import matplotlib.pyplot as plt\n",
    "plt.plot(history.history['accuracy'])\n",
    "plt.plot(history.history['val_accuracy'])\n",
    "plt.title('model accuracy')\n",
    "plt.ylabel('accuracy')\n",
    "plt.xlabel('epoch')\n",
    "plt.legend(['train', 'test'], loc='upper left')\n",
    "plt.show()\n",
    "\n",
    "plt.plot(history.history['loss'])\n",
    "plt.plot(history.history['val_loss'])\n",
    "plt.title('model loss')\n",
    "plt.ylabel('loss')\n",
    "plt.xlabel('epoch')\n",
    "plt.legend(['train', 'test'], loc='upper left')\n",
    "plt.show()\n"
   ]
  },
  {
   "cell_type": "code",
   "execution_count": 16,
   "metadata": {},
   "outputs": [
    {
     "name": "stdout",
     "output_type": "stream",
     "text": [
      "Covid\n"
     ]
    },
    {
     "data": {
      "image/png": "[encoded data removed]",
      "text/plain": [
       "<Figure size 432x288 with 1 Axes>"
      ]
     },
     "metadata": {
      "needs_background": "light"
     },
     "output_type": "display_data"
    }
   ],
   "source": [
    "# for only one prediction\n",
    "import numpy as np\n",
    "from tensorflow.keras.preprocessing import image\n",
    "import matplotlib.pyplot as plt\n",
    "test_image = image.load_img(r\"C:\\Users\\dell\\Desktop\\MYFILES\\COVID-19\\Data\\test\\Covid\\80446565-E090-4187-A031-9D3CEAA586C8.jpeg\",\n",
    "                            target_size=(64,64))\n",
    "plt.imshow(test_image)\n",
    "test_image = image.img_to_array(test_image)\n",
    "test_image = np.expand_dims(test_image, axis=0)\n",
    "result = classifier.predict(test_image)\n",
    "\n",
    "training_set.class_indices\n",
    "if result[0][0] == 1:\n",
    "    prediction = 'No - Covid'\n",
    "else:\n",
    "    prediction = 'Covid'\n",
    "print(prediction)"
   ]
  },
  {
   "cell_type": "code",
   "execution_count": 17,
   "metadata": {},
   "outputs": [
    {
     "name": "stdout",
     "output_type": "stream",
     "text": [
      "WARNING:tensorflow:From C:\\Users\\dell\\AppData\\Local\\Temp\\ipykernel_3800\\1466323213.py:9: Sequential.predict_classes (from tensorflow.python.keras.engine.sequential) is deprecated and will be removed after 2021-01-01.\n",
      "Instructions for updating:\n",
      "Please use instead:* `np.argmax(model.predict(x), axis=-1)`,   if your model does multi-class classification   (e.g. if it uses a `softmax` last-layer activation).* `(model.predict(x) > 0.5).astype(\"int32\")`,   if your model does binary classification   (e.g. if it uses a `sigmoid` last-layer activation).\n"
     ]
    }
   ],
   "source": [
    "# plot confusion metrix\n",
    "y_pred = []\n",
    "y_test = []\n",
    "import os\n",
    "for i in os.listdir(\"Data/test/Normal\"):\n",
    "    img = image.load_img(\"Data/test/Normal/\" + i, target_size=(64, 64))\n",
    "    img = image.img_to_array(img)\n",
    "    img = np.expand_dims(img, axis=0)\n",
    "    p = classifier.predict_classes(img)\n",
    "    y_test.append(p[0, 0])\n",
    "    y_pred.append(1)\n",
    "for i in os.listdir(\"Data/test/Covid\"):\n",
    "    img = image.load_img(\"Data/test/Covid/\" + i, target_size=(64, 64))\n",
    "    img = image.img_to_array(img)\n",
    "    img = np.expand_dims(img, axis=0)\n",
    "    p = classifier.predict_classes(img)\n",
    "    y_test.append(p[0, 0])\n",
    "    y_pred.append(0)\n",
    "\n",
    "y_pred = np.array(y_pred)\n",
    "y_test = np.array(y_test)"
   ]
  },
  {
   "cell_type": "code",
   "execution_count": 10,
   "metadata": {},
   "outputs": [
    {
     "data": {
      "image/png": "[encoded data removed]",
      "text/plain": [
       "<Figure size 432x288 with 2 Axes>"
      ]
     },
     "metadata": {
      "needs_background": "light"
     },
     "output_type": "display_data"
    },
    {
     "name": "stdout",
     "output_type": "stream",
     "text": [
      "              precision    recall  f1-score   support\n",
      "\n",
      "           0       1.00      0.94      0.97        50\n",
      "           1       0.94      1.00      0.97        50\n",
      "\n",
      "    accuracy                           0.97       100\n",
      "   macro avg       0.97      0.97      0.97       100\n",
      "weighted avg       0.97      0.97      0.97       100\n",
      "\n"
     ]
    }
   ],
   "source": [
    "from sklearn.metrics import confusion_matrix\n",
    "import seaborn as sns\n",
    "from sklearn.metrics import classification_report\n",
    "\n",
    "cm = confusion_matrix(y_pred, y_test)\n",
    "sns.heatmap(cm, cmap=\"plasma\", annot=True)\n",
    "plt.show()\n",
    "\n",
    "print(classification_report(y_pred, y_test))\n"
   ]
  },
  {
   "cell_type": "code",
   "execution_count": null,
   "metadata": {},
   "outputs": [],
   "source": []
  },
  {
   "cell_type": "code",
   "execution_count": null,
   "metadata": {},
   "outputs": [],
   "source": []
  },
  {
   "cell_type": "code",
   "execution_count": null,
   "metadata": {},
   "outputs": [],
   "source": []
  },
  {
   "cell_type": "code",
   "execution_count": null,
   "metadata": {},
   "outputs": [],
   "source": []
  }
 ],
 "metadata": {
  "kernelspec": {
   "display_name": "Python 3 (ipykernel)",
   "language": "python",
   "name": "python3"
  },
  "language_info": {
   "codemirror_mode": {
    "name": "ipython",
    "version": 3
   },
   "file_extension": ".py",
   "mimetype": "text/x-python",
   "name": "python",
   "nbconvert_exporter": "python",
   "pygments_lexer": "ipython3",
   "version": "3.8.13"
  }
 },
 "nbformat": 4,
 "nbformat_minor": 4
}
