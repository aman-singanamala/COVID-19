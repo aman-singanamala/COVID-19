{
 "cells": [
  {
   "cell_type": "code",
   "execution_count": 1,
   "metadata": {
    "ExecuteTime": {
     "end_time": "2022-04-23T16:44:44.007250Z",
     "start_time": "2022-04-23T16:44:27.902664Z"
    }
   },
   "outputs": [],
   "source": [
    "#Importing the Keras libraries and packages\n",
    "import os\n",
    "import pandas as pd\n",
    "import pickle\n",
    "import numpy as np\n",
    "import tensorflow as tf\n",
    "from tensorflow.keras.models import load_model\n",
    "from tensorflow.keras.preprocessing.image import ImageDataGenerator\n",
    "from tensorflow.keras.models import Model\n",
    "from PIL import Image"
   ]
  },
  {
   "cell_type": "code",
   "execution_count": 2,
   "metadata": {
    "ExecuteTime": {
     "end_time": "2022-04-23T16:44:44.411112Z",
     "start_time": "2022-04-23T16:44:44.010068Z"
    }
   },
   "outputs": [
    {
     "name": "stdout",
     "output_type": "stream",
     "text": [
      "Model: \"sequential\"\n",
      "_________________________________________________________________\n",
      " Layer (type)                Output Shape              Param #   \n",
      "=================================================================\n",
      " conv2d (Conv2D)             (None, 64, 64, 32)        896       \n",
      "                                                                 \n",
      " max_pooling2d (MaxPooling2D  (None, 32, 32, 32)       0         \n",
      " )                                                               \n",
      "                                                                 \n",
      " conv2d_1 (Conv2D)           (None, 32, 32, 64)        18496     \n",
      "                                                                 \n",
      " max_pooling2d_1 (MaxPooling  (None, 16, 16, 64)       0         \n",
      " 2D)                                                             \n",
      "                                                                 \n",
      " flatten (Flatten)           (None, 16384)             0         \n",
      "                                                                 \n",
      " dense (Dense)               (None, 128)               2097280   \n",
      "                                                                 \n",
      " dense_1 (Dense)             (None, 1)                 129       \n",
      "                                                                 \n",
      "=================================================================\n",
      "Total params: 2,116,801\n",
      "Trainable params: 2,116,801\n",
      "Non-trainable params: 0\n",
      "_________________________________________________________________\n"
     ]
    }
   ],
   "source": [
    "# Initialising the CNN\n",
    "classifier = tf.keras.models.Sequential()\n",
    "\n",
    "classifier.add(tf.keras.layers.Convolution2D(filters=32,\n",
    "                                  kernel_size=3,\n",
    "                                  padding=\"same\",\n",
    "                                  input_shape=(64, 64, 3),\n",
    "                                  activation='relu'))\n",
    "\n",
    "classifier.add(tf.keras.layers.MaxPooling2D(pool_size=2, strides=2, padding='valid'))\n",
    "\n",
    "classifier.add(tf.keras.layers.Convolution2D(filters=64,\n",
    "                                  kernel_size=3,\n",
    "                                  padding=\"same\",\n",
    "                                  activation=\"relu\"))\n",
    "\n",
    "classifier.add(tf.keras.layers.MaxPooling2D(pool_size=2, strides=2, padding='valid'))\n",
    "\n",
    "# Part Of Neural Network\n",
    "\n",
    "classifier.add(tf.keras.layers.Flatten())\n",
    "\n",
    "classifier.add(tf.keras.layers.Dense(units=128, activation='relu'))\n",
    "\n",
    "classifier.add(tf.keras.layers.Dense(units=1, activation='sigmoid'))\n",
    "\n",
    "classifier.compile(optimizer='adam',\n",
    "                   loss='binary_crossentropy',\n",
    "                   metrics=['accuracy'])\n",
    "\n",
    "classifier.summary()"
   ]
  },
  {
   "cell_type": "code",
   "execution_count": 3,
   "metadata": {
    "ExecuteTime": {
     "end_time": "2022-04-23T16:44:44.518570Z",
     "start_time": "2022-04-23T16:44:44.416128Z"
    }
   },
   "outputs": [
    {
     "name": "stdout",
     "output_type": "stream",
     "text": [
      "Found 100 images belonging to 2 classes.\n",
      "Found 100 images belonging to 2 classes.\n"
     ]
    }
   ],
   "source": [
    "# Part 2 - Fitting the CNN to the images\n",
    "\n",
    "from tensorflow.keras.preprocessing.image import ImageDataGenerator\n",
    "train_datagen = ImageDataGenerator(rescale=1. / 255,\n",
    "                                   shear_range=0.2,\n",
    "                                   zoom_range=0.2,\n",
    "                                   horizontal_flip=True)\n",
    "test_datagen = ImageDataGenerator(rescale=1. / 255)\n",
    "\n",
    "\n",
    "training_set = train_datagen.flow_from_directory(\n",
    "    r\"C:\\Users\\dell\\Desktop\\MYFILES\\anaconda\\Covid-19-chest-x-ray-detection\\Data\\train\",\n",
    "    target_size=(64, 64),\n",
    "    batch_size=32,\n",
    "    class_mode='binary')\n",
    "test_set = test_datagen.flow_from_directory(\n",
    "    r\"C:\\Users\\dell\\Desktop\\MYFILES\\anaconda\\Covid-19-chest-x-ray-detection\\Data\\train\",\n",
    "    target_size=(64, 64),\n",
    "    batch_size=32,\n",
    "    class_mode='binary')"
   ]
  },
  {
   "cell_type": "code",
   "execution_count": 4,
   "metadata": {
    "ExecuteTime": {
     "end_time": "2022-04-23T16:46:24.150817Z",
     "start_time": "2022-04-23T16:44:44.522766Z"
    }
   },
   "outputs": [
    {
     "name": "stdout",
     "output_type": "stream",
     "text": [
      "Epoch 1/10\n",
      "4/4 [==============================] - 11s 2s/step - loss: 1.2010 - accuracy: 0.3700 - val_loss: 0.6990 - val_accuracy: 0.5000\n",
      "Epoch 2/10\n",
      "4/4 [==============================] - 8s 2s/step - loss: 0.6285 - accuracy: 0.6300 - val_loss: 0.5207 - val_accuracy: 0.9500\n",
      "Epoch 3/10\n",
      "4/4 [==============================] - 8s 2s/step - loss: 0.5158 - accuracy: 0.8700 - val_loss: 0.4191 - val_accuracy: 0.9500\n",
      "Epoch 4/10\n",
      "4/4 [==============================] - 8s 2s/step - loss: 0.4387 - accuracy: 0.8200 - val_loss: 0.2841 - val_accuracy: 0.9600\n",
      "Epoch 5/10\n",
      "4/4 [==============================] - 8s 2s/step - loss: 0.3450 - accuracy: 0.8800 - val_loss: 0.2026 - val_accuracy: 0.9200\n",
      "Epoch 6/10\n",
      "4/4 [==============================] - 13s 3s/step - loss: 0.3231 - accuracy: 0.8300 - val_loss: 0.1263 - val_accuracy: 0.9600\n",
      "Epoch 7/10\n",
      "4/4 [==============================] - 9s 2s/step - loss: 0.2629 - accuracy: 0.8700 - val_loss: 0.1576 - val_accuracy: 0.9500\n",
      "Epoch 8/10\n",
      "4/4 [==============================] - 12s 4s/step - loss: 0.1917 - accuracy: 0.9300 - val_loss: 0.0814 - val_accuracy: 0.9700\n",
      "Epoch 9/10\n",
      "4/4 [==============================] - 9s 2s/step - loss: 0.2459 - accuracy: 0.9200 - val_loss: 0.0755 - val_accuracy: 0.9800\n",
      "Epoch 10/10\n",
      "4/4 [==============================] - 12s 4s/step - loss: 0.2538 - accuracy: 0.9300 - val_loss: 0.0740 - val_accuracy: 0.9800\n"
     ]
    }
   ],
   "source": [
    "#training \n",
    "history = classifier.fit(training_set,\n",
    "                         steps_per_epoch=4,\n",
    "                         epochs=10,\n",
    "                         validation_data=test_set,\n",
    "                         validation_steps=4)"
   ]
  },
  {
   "cell_type": "code",
   "execution_count": 5,
   "metadata": {
    "ExecuteTime": {
     "end_time": "2022-04-23T16:46:24.257736Z",
     "start_time": "2022-04-23T16:46:24.152701Z"
    }
   },
   "outputs": [],
   "source": [
    "classifier.save(r'C:\\Users\\dell\\Desktop\\MYFILES\\COVID-19/model.h5')"
   ]
  },
  {
   "cell_type": "code",
   "execution_count": 6,
   "metadata": {
    "ExecuteTime": {
     "end_time": "2022-04-23T16:46:30.446383Z",
     "start_time": "2022-04-23T16:46:24.261014Z"
    }
   },
   "outputs": [
    {
     "name": "stdout",
     "output_type": "stream",
     "text": [
      "4/4 [==============================] - 5s 819ms/step - loss: 0.0740 - accuracy: 0.9800\n"
     ]
    },
    {
     "data": {
      "text/plain": [
       "[0.07397318631410599, 0.9800000190734863]"
      ]
     },
     "execution_count": 6,
     "metadata": {},
     "output_type": "execute_result"
    }
   ],
   "source": [
    "# evaluation on test set\n",
    "loaded_model = tf.keras.models.load_model(r'C:\\Users\\dell\\Desktop\\MYFILES\\COVID-19/model.h5')\n",
    "loaded_model.evaluate(test_set)"
   ]
  },
  {
   "cell_type": "code",
   "execution_count": 7,
   "metadata": {
    "ExecuteTime": {
     "end_time": "2022-04-23T16:46:32.564714Z",
     "start_time": "2022-04-23T16:46:30.450809Z"
    }
   },
   "outputs": [
    {
     "data": {
      "image/png": "[encoded data removed]",
      "text/plain": [
       "<Figure size 576x396 with 1 Axes>"
      ]
     },
     "metadata": {},
     "output_type": "display_data"
    },
    {
     "data": {
      "image/png": "[encoded data removed]",
      "text/plain": [
       "<Figure size 576x396 with 1 Axes>"
      ]
     },
     "metadata": {},
     "output_type": "display_data"
    }
   ],
   "source": [
    "\n",
    "import matplotlib.pyplot as plt\n",
    "plt.style.use(\"seaborn\")\n",
    "plt.plot(history.history['accuracy'])\n",
    "plt.plot(history.history['val_accuracy'])\n",
    "plt.title('model accuracy')\n",
    "plt.ylabel('accuracy')\n",
    "plt.xlabel('epoch')\n",
    "plt.legend(['train', 'test'], loc='upper left')\n",
    "plt.show()\n",
    "\n",
    "plt.plot(history.history['loss'])\n",
    "plt.plot(history.history['val_loss'])\n",
    "plt.title('model loss')\n",
    "plt.ylabel('loss')\n",
    "plt.xlabel('epoch')\n",
    "plt.legend(['train', 'test'], loc='upper left')\n",
    "plt.show()\n"
   ]
  },
  {
   "cell_type": "code",
   "execution_count": 14,
   "metadata": {
    "ExecuteTime": {
     "end_time": "2022-04-23T17:12:50.672744Z",
     "start_time": "2022-04-23T17:12:50.337062Z"
    }
   },
   "outputs": [
    {
     "name": "stdout",
     "output_type": "stream",
     "text": [
      "Covid\n"
     ]
    },
    {
     "data": {
      "image/png": "[encoded data removed]",
      "text/plain": [
       "<Figure size 576x396 with 1 Axes>"
      ]
     },
     "metadata": {},
     "output_type": "display_data"
    }
   ],
   "source": [
    "# for only one prediction\n",
    "import numpy as np\n",
    "\n",
    "from tensorflow.keras.preprocessing import image\n",
    "\n",
    "import matplotlib.pyplot as plt\n",
    "\n",
    "test_image = image.load_img(\n",
    "    r\"C:\\Users\\dell\\Desktop\\Data\\test\\Covid\\80446565-E090-4187-A031-9D3CEAA586C8.jpeg\",\n",
    "    target_size=(64, 64))\n",
    "\n",
    "plt.imshow(test_image)\n",
    "\n",
    "test_image = image.img_to_array(test_image)\n",
    "\n",
    "test_image = np.expand_dims(test_image, axis=0)\n",
    "\n",
    "result = classifier.predict(test_image)\n",
    "\n",
    "training_set.class_indices\n",
    "\n",
    "if result[0][0] == 1:\n",
    "    prediction = 'No - Covid'\n",
    "else:\n",
    "    prediction = 'Covid'\n",
    "print(prediction)"
   ]
  },
  {
   "cell_type": "code",
   "execution_count": 15,
   "metadata": {
    "ExecuteTime": {
     "end_time": "2022-04-23T17:13:34.088421Z",
     "start_time": "2022-04-23T17:13:19.395107Z"
    }
   },
   "outputs": [],
   "source": [
    "# plot confusion metrix\n",
    "y_pred = []\n",
    "y_test = []\n",
    "import os\n",
    "for i in os.listdir(\"Data/test/Normal\"):\n",
    "    img = image.load_img(\"Data/test/Normal/\" + i, target_size=(64, 64))\n",
    "    img = image.img_to_array(img)\n",
    "    img = np.expand_dims(img, axis=0)\n",
    "    p = classifier.predict(img)\n",
    "    y_test.append(p[0, 0])\n",
    "    y_pred.append(1)\n",
    "for i in os.listdir(\"Data/test/Covid\"):\n",
    "    img = image.load_img(\"Data/test/Covid/\"+ i, target_size=(64, 64))\n",
    "    img = image.img_to_array(img)\n",
    "    img = np.expand_dims(img, axis=0)\n",
    "    p = classifier.predict(img)\n",
    "    y_test.append(p[0, 0])\n",
    "    y_pred.append(0)\n",
    "\n",
    "y_pred = np.array(y_pred)\n",
    "y_test = np.array(y_test)"
   ]
  },
  {
   "cell_type": "code",
   "execution_count": 18,
   "metadata": {
    "ExecuteTime": {
     "end_time": "2022-04-23T17:16:40.356603Z",
     "start_time": "2022-04-23T17:16:40.184108Z"
    }
   },
   "outputs": [
    {
     "data": {
      "image/png": "[encoded data removed]",
      "text/plain": [
       "<Figure size 576x396 with 2 Axes>"
      ]
     },
     "metadata": {},
     "output_type": "display_data"
    },
    {
     "name": "stdout",
     "output_type": "stream",
     "text": [
      "              precision    recall  f1-score   support\n",
      "\n",
      "           0       0.96      0.90      0.93        49\n",
      "           1       0.91      0.96      0.93        51\n",
      "\n",
      "    accuracy                           0.93       100\n",
      "   macro avg       0.93      0.93      0.93       100\n",
      "weighted avg       0.93      0.93      0.93       100\n",
      "\n"
     ]
    }
   ],
   "source": [
    "from sklearn.metrics import confusion_matrix\n",
    "import seaborn as sns\n",
    "from sklearn.metrics import classification_report\n",
    "cm = confusion_matrix(y_pred, y_test.round())\n",
    "sns.heatmap(cm, cmap=\"plasma\", annot=True)\n",
    "plt.show()\n",
    "\n",
    "print(classification_report(y_pred, y_test.round()))\n"
   ]
  },
  {
   "cell_type": "code",
   "execution_count": null,
   "metadata": {},
   "outputs": [],
   "source": []
  },
  {
   "cell_type": "code",
   "execution_count": null,
   "metadata": {},
   "outputs": [],
   "source": []
  },
  {
   "cell_type": "code",
   "execution_count": null,
   "metadata": {},
   "outputs": [],
   "source": []
  },
  {
   "cell_type": "code",
   "execution_count": null,
   "metadata": {},
   "outputs": [],
   "source": []
  }
 ],
 "metadata": {
  "kernelspec": {
   "display_name": "Python 3 (ipykernel)",
   "language": "python",
   "name": "python3"
  },
  "language_info": {
   "codemirror_mode": {
    "name": "ipython",
    "version": 3
   },
   "file_extension": ".py",
   "mimetype": "text/x-python",
   "name": "python",
   "nbconvert_exporter": "python",
   "pygments_lexer": "ipython3",
   "version": "3.8.13"
  }
 },
 "nbformat": 4,
 "nbformat_minor": 4
}
